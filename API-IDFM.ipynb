{
 "cells": [
  {
   "cell_type": "code",
   "execution_count": 82,
   "id": "88a5d83b-6e9c-4735-a9b7-0fdab13fcafc",
   "metadata": {},
   "outputs": [
    {
     "name": "stdout",
     "output_type": "stream",
     "text": [
      "Nom de l'arrêt : Chaussée d'Antin (La Fayette)\n",
      "Statut : o\n",
      "Statut : n\n",
      "Statut : T\n",
      "Statut : i\n",
      "Statut : m\n",
      "Statut : e\n"
     ]
    },
    {
     "data": {
      "text/plain": [
       "4075"
      ]
     },
     "execution_count": 82,
     "metadata": {},
     "output_type": "execute_result"
    }
   ],
   "source": [
    "import os\n",
    "import numpy as np\n",
    "import pandas as pd\n",
    "import io\n",
    "import json\n",
    "import datetime as pkgdt\n",
    "import time\n",
    "import requests \n",
    "from requests.adapters import HTTPAdapter\n",
    "import itertools # list operators\n",
    "\n",
    "from requests.auth import HTTPBasicAuth\n",
    "import requests\n",
    "\n",
    "# URL de l'API par arrêt\n",
    "url = 'https://prim.iledefrance-mobilites.fr/marketplace/stop-monitoring?MonitoringRef=STIF%3AStopPoint%3AQ%3A22388%3A'\n",
    "\n",
    "# header doit contenir la clé API\n",
    "\n",
    "headers = {'Accept':'application/json', 'apikey':'SjlvM6V0HLNnz2SrHK2v5xxVMArX2N5R'}\n",
    "\n",
    "\n",
    "#envoi de la requête au serveur\n",
    "req = requests.get(url, headers = headers)\n",
    "data = req.json()\n",
    "\n",
    "#print('Status:',req)\n",
    "\n",
    "StopPointName_list = data['Siri']['ServiceDelivery']['StopMonitoringDelivery'][0]['MonitoredStopVisit'][0]['MonitoredVehicleJourney']['MonitoredCall']['StopPointName'] \n",
    "MonitoredCall = data['Siri']['ServiceDelivery']['StopMonitoringDelivery'][0]['MonitoredStopVisit'][0]['MonitoredVehicleJourney']['MonitoredCall']['DepartureStatus']\n",
    "\n",
    "for StopPointName in StopPointName_list:\n",
    "    print (\"Nom de l'arrêt : \"+ StopPointName['value'])\n",
    "for DepartureStatus in MonitoredCall :\n",
    "    print (\"Statut : \" + DepartureStatus )\n",
    "\n",
    "    \n",
    "\n",
    "open('Reponse.xml', 'wb').write(req.content)\n",
    "\n",
    "\n"
   ]
  },
  {
   "cell_type": "code",
   "execution_count": null,
   "id": "f4a3e97e",
   "metadata": {},
   "outputs": [],
   "source": []
  },
  {
   "cell_type": "code",
   "execution_count": null,
   "id": "1c6ea018",
   "metadata": {},
   "outputs": [],
   "source": []
  },
  {
   "cell_type": "code",
   "execution_count": null,
   "id": "b21f7ad8-f40b-4889-b7a1-54628e960385",
   "metadata": {},
   "outputs": [],
   "source": []
  }
 ],
 "metadata": {
  "kernelspec": {
   "display_name": "Python 3 (ipykernel)",
   "language": "python",
   "name": "python3"
  },
  "language_info": {
   "codemirror_mode": {
    "name": "ipython",
    "version": 3
   },
   "file_extension": ".py",
   "mimetype": "text/x-python",
   "name": "python",
   "nbconvert_exporter": "python",
   "pygments_lexer": "ipython3",
   "version": "3.9.12"
  }
 },
 "nbformat": 4,
 "nbformat_minor": 5
}
