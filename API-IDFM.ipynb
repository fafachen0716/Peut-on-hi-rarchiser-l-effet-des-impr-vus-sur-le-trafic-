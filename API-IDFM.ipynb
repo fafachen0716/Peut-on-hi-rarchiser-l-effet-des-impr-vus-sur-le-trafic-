{
 "cells": [
  {
   "cell_type": "code",
   "execution_count": 13,
   "id": "88a5d83b-6e9c-4735-a9b7-0fdab13fcafc",
   "metadata": {},
   "outputs": [
    {
     "ename": "TypeError",
     "evalue": "list indices must be integers or slices, not str",
     "output_type": "error",
     "traceback": [
      "\u001b[1;31m---------------------------------------------------------------------------\u001b[0m",
      "\u001b[1;31mTypeError\u001b[0m                                 Traceback (most recent call last)",
      "Input \u001b[1;32mIn [13]\u001b[0m, in \u001b[0;36m<cell line: 33>\u001b[1;34m()\u001b[0m\n\u001b[0;32m     31\u001b[0m \u001b[38;5;66;03m#StopPointName_list = data['Siri']['ServiceDelivery']['StopMonitoringDelivery'][0]['MonitoredStopVisit'][0]['MonitoredVehicleJourney']['MonitoredCall']\u001b[39;00m\n\u001b[0;32m     33\u001b[0m \u001b[38;5;28;01mfor\u001b[39;00m MonitoredStopVisit \u001b[38;5;129;01min\u001b[39;00m StopMonitoringDelivery_list:\n\u001b[1;32m---> 34\u001b[0m     \u001b[38;5;28;01mfor\u001b[39;00m DirectionName \u001b[38;5;129;01min\u001b[39;00m \u001b[43mStopMonitoringDelivery_list\u001b[49m\u001b[43m[\u001b[49m\u001b[38;5;124;43m'\u001b[39;49m\u001b[38;5;124;43mMonitoredStopVisit\u001b[39;49m\u001b[38;5;124;43m'\u001b[39;49m\u001b[43m]\u001b[49m[\u001b[38;5;124m'\u001b[39m\u001b[38;5;124mMonitoredVehicleJourney\u001b[39m\u001b[38;5;124m'\u001b[39m]:\n\u001b[0;32m     35\u001b[0m         \u001b[38;5;66;03m#for StopPointName in StopPointName_list['StopPointName']:\u001b[39;00m\n\u001b[0;32m     37\u001b[0m             \u001b[38;5;28mprint\u001b[39m (\u001b[38;5;124m\"\u001b[39m\u001b[38;5;124m*********************\u001b[39m\u001b[38;5;124m\"\u001b[39m)\n\u001b[0;32m     38\u001b[0m             \u001b[38;5;28mprint\u001b[39m (\u001b[38;5;124m\"\u001b[39m\u001b[38;5;124mNom de l\u001b[39m\u001b[38;5;124m'\u001b[39m\u001b[38;5;124mopérateur de la ligne : \u001b[39m\u001b[38;5;124m\"\u001b[39m \u001b[38;5;241m+\u001b[39m MonitoredStopVisit[\u001b[38;5;124m'\u001b[39m\u001b[38;5;124mMonitoredVehicleJourney\u001b[39m\u001b[38;5;124m'\u001b[39m][\u001b[38;5;124m'\u001b[39m\u001b[38;5;124mOperatorRef\u001b[39m\u001b[38;5;124m'\u001b[39m][\u001b[38;5;124m'\u001b[39m\u001b[38;5;124mvalue\u001b[39m\u001b[38;5;124m'\u001b[39m])\n",
      "\u001b[1;31mTypeError\u001b[0m: list indices must be integers or slices, not str"
     ]
    }
   ],
   "source": [
    "import os\n",
    "import numpy as np\n",
    "import pandas as pd\n",
    "import io\n",
    "import json\n",
    "import datetime as pkgdt\n",
    "import time\n",
    "import requests \n",
    "from requests.adapters import HTTPAdapter\n",
    "import itertools # list operators\n",
    "\n",
    "from requests.auth import HTTPBasicAuth\n",
    "import requests\n",
    "\n",
    "# URL de l'API par arrêt\n",
    "url = 'https://prim.iledefrance-mobilites.fr/marketplace/stop-monitoring?MonitoringRef=STIF%3AStopPoint%3AQ%3A22388%3A'\n",
    "\n",
    "# header doit contenir la clé API\n",
    "\n",
    "headers = {'Accept':'application/json', 'apikey':'SjlvM6V0HLNnz2SrHK2v5xxVMArX2N5R'}\n",
    "\n",
    "\n",
    "#envoi de la requête au serveur\n",
    "req = requests.get(url, headers = headers)\n",
    "data = req.json()\n",
    "\n",
    "#print('Status:',req)\n",
    "\n",
    "MonitoredStopVisit_list = data['Siri']['ServiceDelivery']['StopMonitoringDelivery'][0]['MonitoredStopVisit']\n",
    "MonitoredVehicleJourney_list = data['Siri']['ServiceDelivery']['StopMonitoringDelivery'][0]['MonitoredStopVisit'][0]['MonitoredVehicleJourney']['DirectionName']\n",
    "StopPointName_list = data['Siri']['ServiceDelivery']['StopMonitoringDelivery'][0]['MonitoredStopVisit'][0]['MonitoredVehicleJourney']['MonitoredCall']\n",
    "\n",
    "for MonitoredStopVisit in MonitoredStopVisit_list:\n",
    "    for DirectionName in MonitoredVehicleJourney_list:\n",
    "        for StopPointName in StopPointName_list['StopPointName']:\n",
    "            \n",
    "                print (\"*********************\")\n",
    "                print (\"Nom de l'opérateur de la ligne : \" + MonitoredStopVisit['MonitoredVehicleJourney']['OperatorRef']['value'])\n",
    "                print (\"Direction du bus : \" + DirectionName['value'] )\n",
    "                print (\"Nom de l'arrêt : \"+ StopPointName['value'])\n",
    "                \n",
    "                \n",
    "                \n",
    "         \n",
    "         \n",
    "\n",
    "    \n",
    "\n",
    "open('Reponse.xml', 'wb').write(req.content)\n",
    "\n",
    "\n"
   ]
  },
  {
   "cell_type": "code",
   "execution_count": null,
   "id": "f4a3e97e",
   "metadata": {},
   "outputs": [],
   "source": []
  },
  {
   "cell_type": "code",
   "execution_count": null,
   "id": "1c6ea018",
   "metadata": {},
   "outputs": [],
   "source": []
  },
  {
   "cell_type": "code",
   "execution_count": null,
   "id": "b21f7ad8-f40b-4889-b7a1-54628e960385",
   "metadata": {},
   "outputs": [],
   "source": []
  }
 ],
 "metadata": {
  "kernelspec": {
   "display_name": "Python 3 (ipykernel)",
   "language": "python",
   "name": "python3"
  },
  "language_info": {
   "codemirror_mode": {
    "name": "ipython",
    "version": 3
   },
   "file_extension": ".py",
   "mimetype": "text/x-python",
   "name": "python",
   "nbconvert_exporter": "python",
   "pygments_lexer": "ipython3",
   "version": "3.9.12"
  }
 },
 "nbformat": 4,
 "nbformat_minor": 5
}
